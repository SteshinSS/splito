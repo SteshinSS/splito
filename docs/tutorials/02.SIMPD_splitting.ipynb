{
 "cells": [
  {
   "cell_type": "markdown",
   "id": "5711a447-d6fb-4b41-be0e-fece8b0733eb",
   "metadata": {},
   "source": [
    "## SIMPD split\n",
    "- **Approach:** For dataset with time series information,  dataset is sorted in chronological order based on a relevant time variable and then split into training and test sets. Importantly, the training set includes data from earlier time points, and the test set includes data from later time points.\n",
    "- **Characteristics**: This approach mimics real-world scenarios where predictions are made on future data based on historical information. The model is trained on the training set, which consists of data up to a certain point in time. It is then evaluated on the test set, which contains data from a later time period. This provides a robust estimate of the model's ability to generalize to new data.\n",
    "- **Application:** The assumption of using time-series split is that the key features of the dataset correlate with historical information. Most of the drug development projects requires a number of iterations of molecular design and experimental validation over a series of time points. The later design circles normally contain molecules having on one or multiple improved features of molecular profile, such as better range of molecular weight, new chemical structures,  new scaffolds, better bioactivity, better DMPK properties etc. In these cases, this  approach provides a robust estimate of the model's ability to **generalize to new data**. A model chosen through this splitting approach proves highly valuable in the lead optimization phase. However, assuming the molecular profiles have no significant changes over a different time point, applying the time-series split would have no difference to a random split. However, this method relies on the availability of the time series information."
   ]
  },
  {
   "cell_type": "code",
   "execution_count": 1,
   "id": "1418374e-1889-43c5-b271-09d80cdea64f",
   "metadata": {},
   "outputs": [],
   "source": [
    "%load_ext autoreload\n",
    "%autoreload 2\n",
    "import datamol as dm\n",
    "from splito.simpd import SIMPDSplitter"
   ]
  },
  {
   "cell_type": "code",
   "execution_count": null,
   "id": "9ce88ac7-9547-488a-9814-a8fc0fd944ed",
   "metadata": {},
   "outputs": [],
   "source": []
  }
 ],
 "metadata": {
  "kernelspec": {
   "display_name": "Python 3 (ipykernel)",
   "language": "python",
   "name": "python3"
  },
  "language_info": {
   "codemirror_mode": {
    "name": "ipython",
    "version": 3
   },
   "file_extension": ".py",
   "mimetype": "text/x-python",
   "name": "python",
   "nbconvert_exporter": "python",
   "pygments_lexer": "ipython3",
   "version": "3.11.5"
  }
 },
 "nbformat": 4,
 "nbformat_minor": 5
}
